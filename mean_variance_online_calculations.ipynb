{
  "nbformat": 4,
  "nbformat_minor": 0,
  "metadata": {
    "colab": {
      "name": "mean_variance_online_calculations.ipynb",
      "provenance": [],
      "authorship_tag": "ABX9TyPwEA64+wG0H1ozaSx7wFcj",
      "include_colab_link": true
    },
    "kernelspec": {
      "name": "python3",
      "display_name": "Python 3"
    }
  },
  "cells": [
    {
      "cell_type": "markdown",
      "metadata": {
        "id": "view-in-github",
        "colab_type": "text"
      },
      "source": [
        "<a href=\"https://colab.research.google.com/github/rsoaresp/docs/blob/master/mean_variance_online_calculations.ipynb\" target=\"_parent\"><img src=\"https://colab.research.google.com/assets/colab-badge.svg\" alt=\"Open In Colab\"/></a>"
      ]
    },
    {
      "cell_type": "markdown",
      "metadata": {
        "id": "JvVXHi5CV6VG",
        "colab_type": "text"
      },
      "source": [
        "The general form os the arithmetic mean is well know to everybody, from school times, where we learnt that the mean $\\bar{x}_{n}$ of $n$ number ${x_1, x_2, ..., x_n}$ is\n",
        "\n",
        "$\\bar{x}_{n} = \\frac{x_1 + x_2 + ... + x_n}{n}$.\n",
        "\n",
        "One problem with this formula is that suppose we calculate the average of one billion numbers. Then someone gives you a new number and asks the result of the new average. Do you have to do the sum of a billion number all over again? This is a waste of time and there must be a better way to do this, and actualy there is a way!\n",
        "\n",
        "We can rewrite the equation as\n",
        "\n",
        "$\\bar{x}_{n} = \\frac{x_1 + x_2 + ... + x_{n-1}}{n} \\times \\frac{n-1}{n-1} + \\frac{x_n}{n}$,\n",
        "\n",
        "which leads to the formula\n",
        "\n",
        "$\\bar{x}_{n} = \\bar{x}_{n-1} \\frac{n-1}{n} + \\frac{x_n}{n}$.\n",
        "\n",
        "The result above is all we wished for, but let's move a little bit more and write it as\n",
        "\n",
        "$\\bar{x}_{n} = \\bar{x}_{n-1} + \\frac{1}{n}(x_n - \\bar{x}_{n-1})$\n",
        "\n",
        "We see that the new average is just equal to the previous one, calculate with our first billion numbers plus a term that is the difference between the new number and the calculated mean divided by one over 1000000001 (n), which is a pretty simple and nice formula!"
      ]
    },
    {
      "cell_type": "markdown",
      "metadata": {
        "id": "KwKIISUmaFHi",
        "colab_type": "text"
      },
      "source": [
        "It's amusing that an _online_ calculation in the same spirit of what we did for the arithmetic mean is also available for the generalized mean\n",
        "\n",
        "$\\bar{x}_{n} = \\left( \\frac{1}{n}\\sum_{i=1}^{n} x_{i}^{m} \\right)^{(1/m)}$:\n",
        "\n",
        "$\\bar{x}_{n}^{m} = \\bar{x}_{n-1}^{m} + \\frac{1}{n}(x_n^{m} - \\bar{x}_{n-1}^{m})$,\n",
        "\n",
        "which cover the harmonic, geometric and other cases. Actually, for the more general form of the mean\n",
        "\n",
        "$\\bar{x}_{n} = f^{-1}\\left( \\frac{1}{n} \\sum_{i=1}^{n} f(x_i) \\right)$,\n",
        "\n",
        "$\\bar{x}_{n}^{m} = f \\left(\\bar{x}_{n-1}\\right) + \\frac{1}{n}(f\\left(x_n\\right) - f\\left(\\bar{x}_{n-1}\\right))$\n"
      ]
    },
    {
      "cell_type": "markdown",
      "metadata": {
        "id": "je4mWAHbbdzl",
        "colab_type": "text"
      },
      "source": [
        "Let's move on and do some numerical exercises to check what we've saying!\n"
      ]
    },
    {
      "cell_type": "markdown",
      "metadata": {
        "id": "2A70vQw6gHB-",
        "colab_type": "text"
      },
      "source": [
        "**TODO**: TODO the sections below"
      ]
    },
    {
      "cell_type": "code",
      "metadata": {
        "id": "4EdO1dMDbsXR",
        "colab_type": "code",
        "colab": {}
      },
      "source": [
        "import numpy as np"
      ],
      "execution_count": 0,
      "outputs": []
    },
    {
      "cell_type": "code",
      "metadata": {
        "id": "j0Xkv6xEbuK5",
        "colab_type": "code",
        "colab": {}
      },
      "source": [
        "class OnlineMean:\n",
        "  def __init__(self, x: float):\n",
        "    self.n = 1\n",
        "    self.mean = x\n",
        "\n",
        "  def reset_params(self, x: float):\n",
        "    self.n = 1\n",
        "    self.online_mean = x\n",
        "\n",
        "  def update_arithmetic_mean(self, new_value: float) -> float:\n",
        "    self.n = self.n + 1\n",
        "    self.mean = self.mean + (new_value - self.mean)/self.n\n",
        "\n",
        "  def update_generalized_mean(self, new_value: float, m: float) -> float:\n",
        "    self.n = self.n + 1\n",
        "    self.mean = (self.mean**m + (new_value**m - self.mean**m)/self.n)**(1/m)"
      ],
      "execution_count": 0,
      "outputs": []
    },
    {
      "cell_type": "code",
      "metadata": {
        "id": "kFhMlXGQcwDc",
        "colab_type": "code",
        "colab": {
          "base_uri": "https://localhost:8080/",
          "height": 68
        },
        "outputId": "5c0f30b7-dfb7-44f4-8911-d672dd328378"
      },
      "source": [
        "online_calculator = OnlineMean(1)\n",
        "numbers_sequence =  [2, 3, 4]\n",
        "\n",
        "for new_value in numbers_sequence:\n",
        "  online_calculator.update_arithmetic_mean(new_value)\n",
        "  print(online_calculator.online_mean)"
      ],
      "execution_count": 17,
      "outputs": [
        {
          "output_type": "stream",
          "text": [
            "1.5\n",
            "2.0\n",
            "2.5\n"
          ],
          "name": "stdout"
        }
      ]
    },
    {
      "cell_type": "code",
      "metadata": {
        "id": "NZZSzvAFerSA",
        "colab_type": "code",
        "colab": {
          "base_uri": "https://localhost:8080/",
          "height": 34
        },
        "outputId": "838f874d-c3c3-4580-9d39-93eb1ad2354b"
      },
      "source": [
        "(1 + 2 + 3 + 4)/4"
      ],
      "execution_count": 19,
      "outputs": [
        {
          "output_type": "execute_result",
          "data": {
            "text/plain": [
              "2.5"
            ]
          },
          "metadata": {
            "tags": []
          },
          "execution_count": 19
        }
      ]
    },
    {
      "cell_type": "code",
      "metadata": {
        "id": "vXAUJkpId0jK",
        "colab_type": "code",
        "colab": {
          "base_uri": "https://localhost:8080/",
          "height": 68
        },
        "outputId": "71802675-945f-43c2-878b-25a8a9534bff"
      },
      "source": [
        "online_calculator = OnlineMean(1)\n",
        "numbers_sequence =  [2, 3, 4]\n",
        "\n",
        "for new_value in numbers_sequence:\n",
        "  online_calculator.update_generalized_mean(new_value, 3)\n",
        "  print(online_calculator.gen_mean)"
      ],
      "execution_count": 18,
      "outputs": [
        {
          "output_type": "stream",
          "text": [
            "1.6509636244473134\n",
            "2.2894284851066637\n",
            "2.924017738212866\n"
          ],
          "name": "stdout"
        }
      ]
    },
    {
      "cell_type": "code",
      "metadata": {
        "id": "zFzihX_ld0_1",
        "colab_type": "code",
        "colab": {
          "base_uri": "https://localhost:8080/",
          "height": 34
        },
        "outputId": "388351d3-c592-44a0-f1aa-f1fb285ccfea"
      },
      "source": [
        "((1**3 + 2**3 + 3**3 + 4**3)/4)**(1/3)"
      ],
      "execution_count": 15,
      "outputs": [
        {
          "output_type": "execute_result",
          "data": {
            "text/plain": [
              "2.924017738212866"
            ]
          },
          "metadata": {
            "tags": []
          },
          "execution_count": 15
        }
      ]
    },
    {
      "cell_type": "markdown",
      "metadata": {
        "id": "OCmqD86PgW6V",
        "colab_type": "text"
      },
      "source": [
        "Non-stationary mean"
      ]
    }
  ]
}