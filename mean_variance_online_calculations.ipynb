{
 "cells": [
  {
   "cell_type": "markdown",
   "metadata": {
    "colab_type": "text",
    "id": "view-in-github"
   },
   "source": [
    "<a href=\"https://colab.research.google.com/github/rsoaresp/docs/blob/master/mean_variance_online_calculations.ipynb\" target=\"_parent\"><img src=\"https://colab.research.google.com/assets/colab-badge.svg\" alt=\"Open In Colab\"/></a>"
   ]
  },
  {
   "cell_type": "markdown",
   "metadata": {},
   "source": [
    "# Online calculation of the mean and variance\n",
    "\n",
    "We show how to calculate, and why we need it, mean and variance for a stream of numbers."
   ]
  },
  {
   "cell_type": "markdown",
   "metadata": {
    "colab_type": "text",
    "id": "JvVXHi5CV6VG"
   },
   "source": [
    "The general form os the arithmetic mean is well know to everybody, from the good and old school times, where we learnt that the mean $\\bar{x}_{n}$ of a set of $n$ number $x_1, x_2, ..., x_n$ is\n",
    "\n",
    "$\\bar{x}_{n} = \\frac{x_1 + x_2 + ... + x_n}{n}$.\n",
    "\n",
    "Suppose we calculate the average of one billion numbers. Then someone gives you a new number and asks the result of the new average. Do you have to do the sum of a billion number all over again? This is surely a waste of time and there must be a better way to do this.\n",
    "\n",
    "Actually, we can rewrite the equation separting the newest contribution $x_{n}$ from the previous ones as\n",
    "\n",
    "$\\bar{x}_{n} = \\frac{x_1 + x_2 + ... + x_{n-1}}{n} \\times \\frac{n-1}{n-1} + \\frac{x_n}{n}$,\n",
    "\n",
    "which leads to the formula\n",
    "\n",
    "$\\bar{x}_{n} = \\bar{x}_{n-1} \\frac{n-1}{n} + \\frac{x_n}{n}$.\n",
    "\n",
    "The result above is all we wished for, but let's move a little bit more and write it as\n",
    "\n",
    "$\\bar{x}_{n} = \\bar{x}_{n-1} + \\frac{1}{n}(x_n - \\bar{x}_{n-1})$\n",
    "\n",
    "We see that the new average is just equal to the previous one, calculate with our first billion numbers, plus a term that is the difference between the new entry and the already know mean, divided by 1000000001 (the number $n$ of numbers). Look how pretty and simple it is!"
   ]
  },
  {
   "cell_type": "markdown",
   "metadata": {
    "colab_type": "text",
    "id": "KwKIISUmaFHi"
   },
   "source": [
    "The coolest thing about this _online_ calculation is that it can be extended, in the same spirit of what we did for the arithmetic mean, to the generalized mean, which covers the harmonic, geometric and other cases by variation of a single parameter. It's defined as: \n",
    "\n",
    "$\\bar{x}_{n} = \\left( \\frac{1}{n}\\sum_{i=1}^{n} x_{i}^{m} \\right)^{(1/m)}$,\n",
    "\n",
    "where $m$ is a parameter ($m=1$ leads to the arithmetic mean, for instance). The strategy is similar to what we did earlier, separating the newest contribution of the $x_n$ term and writing the previous ones as $\\bar{x}_{n-1}$, leading us into\n",
    "\n",
    "$\\bar{x}_{n}^{m} = \\bar{x}_{n-1}^{m} + \\frac{1}{n}(x_n^{m} - \\bar{x}_{n-1}^{m})$.\n",
    "\n",
    "In a even more general scenery, we can write an _online_ equation for means calculated as\n",
    "\n",
    "$\\bar{x}_{n} = f^{-1}\\left( \\frac{1}{n} \\sum_{i=1}^{n} f(x_i) \\right)$,\n",
    "\n",
    "$f\\left(\\bar{x}_{n}\\right) = f \\left(\\bar{x}_{n-1}\\right) + \\frac{1}{n}(f\\left(x_n\\right) - f\\left(\\bar{x}_{n-1}\\right))$"
   ]
  },
  {
   "cell_type": "markdown",
   "metadata": {
    "colab_type": "text",
    "id": "je4mWAHbbdzl"
   },
   "source": [
    "Let's move on and do some numerical exercises to check what we've saying!\n"
   ]
  },
  {
   "cell_type": "code",
   "execution_count": 1,
   "metadata": {
    "colab": {},
    "colab_type": "code",
    "id": "4EdO1dMDbsXR"
   },
   "outputs": [],
   "source": [
    "import numpy as np\n",
    "from typing import Callable"
   ]
  },
  {
   "cell_type": "code",
   "execution_count": 41,
   "metadata": {},
   "outputs": [],
   "source": [
    "def online_averager(averager_type: str, **kwargs) -> Callable:\n",
    "    \n",
    "    n, mean = 0, 0\n",
    "    m = kwargs.get('m', 1)\n",
    "    \n",
    "    def arithmetic_averager(new_value: float) -> float:\n",
    "        nonlocal n, mean\n",
    "        n = n + 1\n",
    "        mean = mean + (new_value - mean)/n\n",
    "        return mean\n",
    "    \n",
    "    def generalized_averager(new_value: float) -> float:\n",
    "        nonlocal n, mean        \n",
    "        n = n + 1\n",
    "        mean = (mean**m + (new_value**m - mean**m)/n)**(1/m)\n",
    "        return mean\n",
    "        \n",
    "    if averager_type == 'arithmetic':\n",
    "        return arithmetic_averager\n",
    "    elif averager_type == 'generalized':\n",
    "        return generalized_averager"
   ]
  },
  {
   "cell_type": "code",
   "execution_count": 3,
   "metadata": {},
   "outputs": [
    {
     "name": "stdout",
     "output_type": "stream",
     "text": [
      "1.0 1.0\n",
      "1.5 1.5\n",
      "2.0 2.0\n",
      "2.5 2.5\n",
      "3.0 3.0\n"
     ]
    }
   ],
   "source": [
    "avg = online_averager('arithmetic')\n",
    "\n",
    "numbers = [1,2,3,4,5]\n",
    "for pos, num in enumerate(numbers):\n",
    "    print(avg(num), np.mean(numbers[0:1+pos]))"
   ]
  },
  {
   "cell_type": "code",
   "execution_count": 56,
   "metadata": {
    "colab": {},
    "colab_type": "code",
    "id": "j0Xkv6xEbuK5"
   },
   "outputs": [
    {
     "name": "stdout",
     "output_type": "stream",
     "text": [
      "1.0\n",
      "1.6509636244473134\n",
      "2.2894284851066637\n",
      "2.924017738212866\n",
      "3.5568933044900626\n"
     ]
    }
   ],
   "source": [
    "avg = online_averager('generalized', m=3)\n",
    "\n",
    "numbers = [1,2,3,4,5]\n",
    "for pos, num in enumerate(numbers):\n",
    "    print(avg(num))"
   ]
  },
  {
   "cell_type": "code",
   "execution_count": 5,
   "metadata": {},
   "outputs": [
    {
     "data": {
      "text/plain": [
       "3.5568933044900626"
      ]
     },
     "execution_count": 5,
     "metadata": {},
     "output_type": "execute_result"
    }
   ],
   "source": [
    "np.mean([i**3 for i in numbers])**(1/3)"
   ]
  },
  {
   "cell_type": "markdown",
   "metadata": {
    "colab_type": "text",
    "id": "OCmqD86PgW6V"
   },
   "source": [
    "The calculations above work well for the case of a stationary process, a process where its properties doesn't change too much during its lifetime. For example, if our set of numbers consist of the height of human beings, it'll be a collection of numbers give by, roughly, a normal distribution that will keep its mean and variance constant trough a long time. On the other hand, many processes have abrupt changes where it's no longer meaninful to keep numbers from a long time ago in the calculation of the mean, since by use of the mean we are trying to give a concise description of the distribution.\n",
    "\n",
    "We must, somehow, erase the influence of the past numbers."
   ]
  },
  {
   "cell_type": "markdown",
   "metadata": {},
   "source": [
    "We can build the following sequence, with $0 \\le \\alpha \\le 1$.\n",
    "\n",
    "$\\bar{x}_n = \\left( 1 - \\alpha \\right) \\bar{x}_{n-1} + \\alpha x_{n} = \\bar{x}_{n-1} + \\alpha \\left( x_{n} - \\bar{x}_{n-1} \\right)$ \n",
    "\n",
    "that is exactly what we had for the arithmetic mean, but with $1/n$ replace by $\\alpha$. The meaning of the above equation is that we are forgeting the past with weight $(1-\\alpha)$ and taking the present with $\\alpha$. On general, we keep on saying that this is a _mean_ because the sum of the coefficients multiplying the $x$ sum up to one."
   ]
  },
  {
   "cell_type": "markdown",
   "metadata": {},
   "source": [
    "Another advantage of writing the equation on the _online_ form is that we can get their non stationary versions. It's not clear how do adapt $\\bar{x}_{n} = f^{-1}\\left( \\frac{1}{n} \\sum_{i=1}^{n} f(x_i) \\right)$ when the process generating the values $x$ is not stationary. However, from  $f\\left(\\bar{x}_{n}\\right) = f \\left(\\bar{x}_{n-1}\\right) + \\frac{1}{n}(f\\left(x_n\\right) - f\\left(\\bar{x}_{n-1}\\right))$ we can move on and replace $n^{-1}$ by $\\alpha$."
   ]
  },
  {
   "cell_type": "markdown",
   "metadata": {},
   "source": [
    "Let's test some of our claims above"
   ]
  },
  {
   "cell_type": "code",
   "execution_count": 6,
   "metadata": {},
   "outputs": [],
   "source": [
    "import matplotlib.pylab as plt"
   ]
  },
  {
   "cell_type": "markdown",
   "metadata": {},
   "source": [
    "Let's generate a time series of positive numbers from two normal distributions with different means and stacking both"
   ]
  },
  {
   "cell_type": "code",
   "execution_count": 61,
   "metadata": {},
   "outputs": [],
   "source": [
    "non_stationary_ts = np.hstack([np.random.normal(loc=5, size = 1000), np.random.normal(loc=10, size = 1000)])"
   ]
  },
  {
   "cell_type": "code",
   "execution_count": 62,
   "metadata": {},
   "outputs": [
    {
     "data": {
      "text/plain": [
       "[<matplotlib.lines.Line2D at 0x7f7e88d741d0>]"
      ]
     },
     "execution_count": 62,
     "metadata": {},
     "output_type": "execute_result"
    },
    {
     "data": {
      "image/png": "[encoded data removed]",
      "text/plain": [
       "<Figure size 432x288 with 1 Axes>"
      ]
     },
     "metadata": {
      "needs_background": "light"
     },
     "output_type": "display_data"
    }
   ],
   "source": [
    "plt.plot(non_stationary_ts)"
   ]
  },
  {
   "cell_type": "code",
   "execution_count": 63,
   "metadata": {},
   "outputs": [],
   "source": [
    "def online_averager_ns(averager_type: str, alpha: float, **kwargs) -> Callable:\n",
    "    \n",
    "    n, mean = 0, 0\n",
    "    m = kwargs.get('m', 1)\n",
    "    \n",
    "    def arithmetic_averager(new_value: float) -> float:\n",
    "        nonlocal n, mean\n",
    "        n = n + 1\n",
    "        mean = mean + alpha*(new_value - mean)\n",
    "        return mean\n",
    "    \n",
    "    def generalized_averager(new_value: float) -> float:\n",
    "        nonlocal n, mean        \n",
    "        n = n + 1\n",
    "        mean = (mean**m + alpha*(new_value**m - mean**m))**(1/m)\n",
    "        return mean\n",
    "        \n",
    "    if averager_type == 'arithmetic':\n",
    "        return arithmetic_averager\n",
    "    elif averager_type == 'generalized':\n",
    "        return generalized_averager"
   ]
  },
  {
   "cell_type": "code",
   "execution_count": 69,
   "metadata": {},
   "outputs": [
    {
     "data": {
      "image/png": "[encoded data removed]",
      "text/plain": [
       "<Figure size 432x288 with 1 Axes>"
      ]
     },
     "metadata": {
      "needs_background": "light"
     },
     "output_type": "display_data"
    }
   ],
   "source": [
    "arithmetic_ns = online_averager_ns('arithmetic', 0.1)\n",
    "arithmetic = online_averager('arithmetic')\n",
    "for pos, num in enumerate(non_stationary_ts):\n",
    "    plt.plot(pos, arithmetic(num), 'r.')\n",
    "    plt.plot(pos, arithmetic_ns(num), 'k.')"
   ]
  },
  {
   "cell_type": "code",
   "execution_count": 70,
   "metadata": {},
   "outputs": [
    {
     "data": {
      "image/png": "[encoded data removed]",
      "text/plain": [
       "<Figure size 432x288 with 1 Axes>"
      ]
     },
     "metadata": {
      "needs_background": "light"
     },
     "output_type": "display_data"
    }
   ],
   "source": [
    "generalized_ns = online_averager_ns('generalized', 0.1, m=3)\n",
    "generalized = online_averager('generalized', m=3)\n",
    "for pos, num in enumerate(non_stationary_ts):\n",
    "    plt.plot(pos, generalized(num), 'r.')\n",
    "    plt.plot(pos, generalized_ns(num), 'k.')"
   ]
  }
 ],
 "metadata": {
  "colab": {
   "authorship_tag": "ABX9TyPwEA64+wG0H1ozaSx7wFcj",
   "include_colab_link": true,
   "name": "mean_variance_online_calculations.ipynb",
   "provenance": []
  },
  "kernelspec": {
   "display_name": "Python 3",
   "language": "python",
   "name": "python3"
  },
  "language_info": {
   "codemirror_mode": {
    "name": "ipython",
    "version": 3
   },
   "file_extension": ".py",
   "mimetype": "text/x-python",
   "name": "python",
   "nbconvert_exporter": "python",
   "pygments_lexer": "ipython3",
   "version": "3.7.5"
  }
 },
 "nbformat": 4,
 "nbformat_minor": 1
}
